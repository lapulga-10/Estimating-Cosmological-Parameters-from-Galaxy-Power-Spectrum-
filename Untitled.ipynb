{
 "cells": [
  {
   "cell_type": "code",
   "execution_count": 1,
   "id": "8afa4ee8-a8ff-43ea-a12a-c0f980eb6fd1",
   "metadata": {},
   "outputs": [
    {
     "name": "stderr",
     "output_type": "stream",
     "text": [
      "INFO:bayesflow:Using backend 'tensorflow'\n"
     ]
    },
    {
     "ename": "ImportError",
     "evalue": "cannot import name 'LogTransform' from 'bayesflow.adapters' (C:\\Users\\rahul\\AppData\\Local\\Programs\\Python\\Python311\\Lib\\site-packages\\bayesflow\\adapters\\__init__.py)",
     "output_type": "error",
     "traceback": [
      "\u001b[31m---------------------------------------------------------------------------\u001b[39m",
      "\u001b[31mImportError\u001b[39m                               Traceback (most recent call last)",
      "\u001b[36mCell\u001b[39m\u001b[36m \u001b[39m\u001b[32mIn[1]\u001b[39m\u001b[32m, line 5\u001b[39m\n\u001b[32m      3\u001b[39m \u001b[38;5;28;01mimport\u001b[39;00m\u001b[38;5;250m \u001b[39m\u001b[34;01mnumpy\u001b[39;00m\u001b[38;5;250m \u001b[39m\u001b[38;5;28;01mas\u001b[39;00m\u001b[38;5;250m \u001b[39m\u001b[34;01mnp\u001b[39;00m\n\u001b[32m      4\u001b[39m \u001b[38;5;28;01mimport\u001b[39;00m\u001b[38;5;250m \u001b[39m\u001b[34;01mbayesflow\u001b[39;00m\u001b[38;5;250m \u001b[39m\u001b[38;5;28;01mas\u001b[39;00m\u001b[38;5;250m \u001b[39m\u001b[34;01mbf\u001b[39;00m\n\u001b[32m----> \u001b[39m\u001b[32m5\u001b[39m \u001b[38;5;28;01mfrom\u001b[39;00m\u001b[38;5;250m \u001b[39m\u001b[34;01mbayesflow\u001b[39;00m\u001b[34;01m.\u001b[39;00m\u001b[34;01madapters\u001b[39;00m\u001b[38;5;250m \u001b[39m\u001b[38;5;28;01mimport\u001b[39;00m Adapter, LogTransform\n\u001b[32m      6\u001b[39m \u001b[38;5;28;01mfrom\u001b[39;00m\u001b[38;5;250m \u001b[39m\u001b[34;01mbayesflow\u001b[39;00m\u001b[34;01m.\u001b[39;00m\u001b[34;01mnetworks\u001b[39;00m\u001b[38;5;250m \u001b[39m\u001b[38;5;28;01mimport\u001b[39;00m MLP, CouplingFlow\n\u001b[32m      8\u001b[39m \u001b[38;5;66;03m# Define prior distribution for cosmological parameters\u001b[39;00m\n",
      "\u001b[31mImportError\u001b[39m: cannot import name 'LogTransform' from 'bayesflow.adapters' (C:\\Users\\rahul\\AppData\\Local\\Programs\\Python\\Python311\\Lib\\site-packages\\bayesflow\\adapters\\__init__.py)"
     ]
    }
   ],
   "source": [
    "import camb\n",
    "from camb import model, initialpower\n",
    "import numpy as np\n",
    "import bayesflow as bf\n",
    "from bayesflow.adapters import Adapter, LogTransform\n",
    "from bayesflow.networks import MLP, CouplingFlow\n",
    "\n",
    "# Define prior distribution for cosmological parameters\n",
    "prior = bf.distributions.JointDistribution([\n",
    "    bf.distributions.Uniform(60, 80, name=\"H0\"),  # Hubble constant (km/s/Mpc)\n",
    "    bf.distributions.Uniform(0.1, 0.5, name=\"Omega_m\"),  # Matter density\n",
    "    bf.distributions.Uniform(0.8, 1.2, name=\"n_s\")  # Spectral index\n",
    "])\n",
    "\n",
    "# Define simulator function using CAMB\n",
    "def cosmology_simulator(H0, Omega_m, n_s):\n",
    "    h = H0 / 100\n",
    "    f_b = 0.15  # Fixed baryon fraction\n",
    "    ombh2 = f_b * Omega_m * h**2  # Baryon density\n",
    "    omch2 = (1 - f_b) * Omega_m * h**2  # CDM density\n",
    "    pars = model.CAMBparams()\n",
    "    pars.set_cosmology(H0=H0, ombh2=ombh2, omch2=omch2, mnu=0.06, omk=0)\n",
    "    pars.set_dark_energy()\n",
    "    pars.InitPower.set_params(ns=n_s, As=2e-9)\n",
    "    pars.set_matter_power(redshifts=[0], kmax=1.0)\n",
    "    results = camb.get_results(pars)\n",
    "    kh, z, pk = results.get_matter_power_spectrum(minkh=0.01, maxkh=1.0, npoints=50)\n",
    "    # Add 1% relative Gaussian noise\n",
    "    noise_std = 0.01 * pk\n",
    "    noise = np.random.normal(0, noise_std)\n",
    "    pk_noisy = pk + noise\n",
    "    return {\"P_k\": pk_noisy.flatten()}\n",
    "\n",
    "# Create simulator\n",
    "simulator = bf.make_simulator([prior, cosmology_simulator])\n",
    "\n",
    "# Define adapter for preprocessing\n",
    "adapter = Adapter()\n",
    "adapter.add(LogTransform(\"P_k\", p1=True))  # Log-transform P(k)\n",
    "\n",
    "# Define neural networks\n",
    "summary_net = MLP(input_shape=(50,), hidden_sizes=[64, 32], output_size=8)\n",
    "inference_net = CouplingFlow(input_size=3, hidden_sizes=[64, 64], n_flow_steps=5)\n",
    "\n",
    "# Create BayesFlow workflow\n",
    "workflow = bf.BasicWorkflow(\n",
    "    simulator=simulator,\n",
    "    adapter=adapter,\n",
    "    inference_network=inference_net,\n",
    "    summary_network=summary_net,\n",
    "    standardize=None\n",
    ")\n",
    "\n",
    "# Generate training and validation data\n",
    "training_data = simulator(n_sim=6000)\n",
    "validation_data = simulator(n_sim=300)\n",
    "\n",
    "# Train the model\n",
    "workflow.fit_offline(data=training_data, epochs=100, batch_size=64, validation_data=validation_data)\n",
    "\n",
    "# Evaluate on test data\n",
    "test_data = simulator(n_sim=300)\n",
    "metrics = workflow.compute_default_diagnostics(test_data=test_data)\n",
    "print(\"Evaluation Metrics:\")\n",
    "print(metrics)"
   ]
  },
  {
   "cell_type": "code",
   "execution_count": null,
   "id": "67d03e52-3577-4be8-ad84-4c68d3cdaacc",
   "metadata": {},
   "outputs": [],
   "source": []
  }
 ],
 "metadata": {
  "kernelspec": {
   "display_name": "Python 3 (ipykernel)",
   "language": "python",
   "name": "python3"
  },
  "language_info": {
   "codemirror_mode": {
    "name": "ipython",
    "version": 3
   },
   "file_extension": ".py",
   "mimetype": "text/x-python",
   "name": "python",
   "nbconvert_exporter": "python",
   "pygments_lexer": "ipython3",
   "version": "3.11.6"
  }
 },
 "nbformat": 4,
 "nbformat_minor": 5
}
