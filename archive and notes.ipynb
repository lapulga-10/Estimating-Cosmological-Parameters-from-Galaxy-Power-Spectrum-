{
 "cells": [
  {
   "cell_type": "code",
   "execution_count": null,
   "id": "initial_id",
   "metadata": {
    "collapsed": true
   },
   "outputs": [],
   "source": [
    "def prior_ignore(batch_size, seed=None):\n",
    "\n",
    "    rng = np.random.default_rng(seed)\n",
    "\n",
    "    H0 = rng.uniform(50, 90, size=batch_size)\n",
    "    Omega_m = rng.uniform(0.2, 0.4, size=batch_size)\n",
    "    n_s = rng.uniform(0.9, 1.0, size=batch_size)\n",
    "\n",
    "    return dict(H0 = H0,\n",
    "                Omega_m = Omega_m,\n",
    "                n_s = n_s)"
   ]
  }
 ],
 "metadata": {
  "kernelspec": {
   "display_name": "Python 3",
   "language": "python",
   "name": "python3"
  },
  "language_info": {
   "codemirror_mode": {
    "name": "ipython",
    "version": 2
   },
   "file_extension": ".py",
   "mimetype": "text/x-python",
   "name": "python",
   "nbconvert_exporter": "python",
   "pygments_lexer": "ipython2",
   "version": "2.7.6"
  }
 },
 "nbformat": 4,
 "nbformat_minor": 5
}
