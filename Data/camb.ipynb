{
 "cells": [
  {
   "cell_type": "code",
   "execution_count": 3,
   "id": "66fd2548-f22c-4b35-bb81-c28524f5c6ec",
   "metadata": {},
   "outputs": [],
   "source": [
    "# !pip install camb"
   ]
  },
  {
   "cell_type": "code",
   "execution_count": null,
   "id": "397deeea-8ef9-4ae0-bf63-2ea301aabcf2",
   "metadata": {},
   "outputs": [],
   "source": [
    "import numpy as np\n",
    "import camb\n",
    "from camb import model, initialpower\n",
    "import matplotlib.pyplot as plt"
   ]
  },
  {
   "cell_type": "markdown",
   "id": "03f41af7-062e-4871-b8e2-1d720113eb2e",
   "metadata": {},
   "source": [
    "# The prior : $p(\\theta)$"
   ]
  },
  {
   "cell_type": "code",
   "execution_count": null,
   "id": "3eef879e-d3ce-40c2-a6aa-6d3229547fe0",
   "metadata": {},
   "outputs": [],
   "source": [
    "# Step 1: Define Prior Sampling\n",
    "def sample_theta(n_samples):\n",
    "    H0_samples = np.random.uniform(50, 90, n_samples)          # Hubble constant\n",
    "    Omega_m_samples = np.random.uniform(0.2, 0.4, n_samples)   # Matter density\n",
    "    n_s_samples = np.random.uniform(0.9, 1.1, n_samples)        # Spectral index\n",
    "    return np.stack([H0_samples, Omega_m_samples, n_s_samples], axis=1)"
   ]
  },
  {
   "cell_type": "code",
   "execution_count": 12,
   "id": "cde2cb22-8c41-49ab-8d78-7b8c6edee21c",
   "metadata": {
    "scrolled": true
   },
   "outputs": [
    {
     "name": "stdout",
     "output_type": "stream",
     "text": [
      "Processor: Intel64 Family 6 Model 140 Stepping 1, GenuineIntel\n"
     ]
    }
   ],
   "source": [
    "import platform\n",
    "\n",
    "print(\"Processor:\", platform.processor())\n"
   ]
  },
  {
   "cell_type": "code",
   "execution_count": 7,
   "id": "dc6f5037-cec0-4889-8ec6-6440e66e8b9b",
   "metadata": {},
   "outputs": [
    {
     "name": "stdout",
     "output_type": "stream",
     "text": [
      "model name\t: 11th Gen Intel(R) Core(TM) i5-11300H @ 3.10GHz\n"
     ]
    }
   ],
   "source": [
    "!cat /proc/cpuinfo | grep \"model name\" | head -1"
   ]
  },
  {
   "cell_type": "code",
   "execution_count": 9,
   "id": "fb66e118-4a84-4b40-bb92-b56de1eb3937",
   "metadata": {},
   "outputs": [
    {
     "name": "stderr",
     "output_type": "stream",
     "text": [
      "uname: extra operand '#'\n",
      "Try 'uname --help' for more information.\n"
     ]
    }
   ],
   "source": [
    "!uname -a    # general OS info"
   ]
  },
  {
   "cell_type": "code",
   "execution_count": 10,
   "id": "ab6e371f-10ec-4905-8fcb-35c900ca6485",
   "metadata": {},
   "outputs": [
    {
     "name": "stdout",
     "output_type": "stream",
     "text": [
      "CPU: Intel64 Family 6 Model 140 Stepping 1, GenuineIntel\n",
      "Cores: 8\n"
     ]
    }
   ],
   "source": [
    "import platform\n",
    "import multiprocessing\n",
    "\n",
    "print(\"CPU:\", platform.processor())\n",
    "print(\"Cores:\", multiprocessing.cpu_count())\n"
   ]
  },
  {
   "cell_type": "code",
   "execution_count": null,
   "id": "7b652cb0-a941-4d41-b6ce-6a599186a537",
   "metadata": {},
   "outputs": [],
   "source": []
  },
  {
   "cell_type": "code",
   "execution_count": null,
   "id": "7645d8ba-25d8-492f-b3e4-6660285ef690",
   "metadata": {},
   "outputs": [],
   "source": []
  },
  {
   "cell_type": "code",
   "execution_count": null,
   "id": "9a5badec-725a-4d22-bf56-e38456944a48",
   "metadata": {},
   "outputs": [],
   "source": [
    "# Step 2: Generate P(k) using CAMB\n",
    "def generate_pk(theta, k_min=1e-4, k_max=1.0, n_k=100):\n",
    "    H0, Omega_m, n_s = theta\n",
    "    pars = camb.CAMBparams()\n",
    "\n",
    "    Omega_b = 0.05                     # fixed baryon density\n",
    "    Omega_c = Omega_m - Omega_b       # cold dark matter from total matter\n",
    "\n",
    "    pars.set_cosmology(H0=H0, ombh2=Omega_b * (H0 / 100)**2, omch2=Omega_c * (H0 / 100)**2)\n",
    "    pars.InitPower.set_params(ns=n_s)\n",
    "    pars.set_matter_power(redshifts=[0.], kmax=k_max)\n",
    "    \n",
    "    results = camb.get_results(pars)\n",
    "    k = np.logspace(np.log10(k_min), np.log10(k_max), n_k)\n",
    "    PK = results.get_matter_power_spectrum(minkh=k_min, maxkh=k_max, npoints = n_k)[0]\n",
    "    return k, PK"
   ]
  },
  {
   "cell_type": "code",
   "execution_count": null,
   "id": "ec2ce304-ef39-4778-88e7-b52f97c6f7ab",
   "metadata": {},
   "outputs": [],
   "source": []
  },
  {
   "cell_type": "code",
   "execution_count": null,
   "id": "72726fdc-b18a-4a8d-b1d9-bef3e4128b49",
   "metadata": {},
   "outputs": [],
   "source": [
    "# Step 3: Add Gaussian noise\n",
    "def add_noise(pk, noise_std=0.05):\n",
    "    noise = np.random.normal(0, noise_std * np.abs(pk))\n",
    "    return pk + noise"
   ]
  },
  {
   "cell_type": "code",
   "execution_count": null,
   "id": "135e529e-f516-4c22-8fe9-2b574ba62463",
   "metadata": {},
   "outputs": [],
   "source": []
  },
  {
   "cell_type": "code",
   "execution_count": null,
   "id": "73e1075d-b347-4b4a-95ea-c8ddbcf3abdc",
   "metadata": {},
   "outputs": [],
   "source": [
    "\n",
    "# Step 4: Create Dataset\n",
    "def generate_dataset(n_samples=1000, noise_std=0.05):\n",
    "    theta_all = sample_theta(n_samples)\n",
    "    dataset = []\n",
    "    for theta in theta_all:\n",
    "        try:\n",
    "            k_vals, pk_clean = generate_pk(theta)\n",
    "            pk_noisy = add_noise(pk_clean, noise_std)\n",
    "            dataset.append((pk_noisy, theta))\n",
    "        except Exception as e:\n",
    "            print(f\"Error at theta={theta}: {e}\")\n",
    "    return k_vals, dataset"
   ]
  },
  {
   "cell_type": "code",
   "execution_count": null,
   "id": "e8320946-0944-4a2f-ac00-14be7b0a8342",
   "metadata": {},
   "outputs": [],
   "source": []
  },
  {
   "cell_type": "code",
   "execution_count": 13,
   "id": "0dc153b8-413a-406b-927e-4d7495b423d2",
   "metadata": {},
   "outputs": [
    {
     "data": {
      "image/png": "[encoded data removed]",
      "text/plain": [
       "<Figure size 640x480 with 1 Axes>"
      ]
     },
     "metadata": {},
     "output_type": "display_data"
    }
   ],
   "source": [
    "# ✅ Example usage\n",
    "if __name__ == \"__main__\":\n",
    "    k, dataset = generate_dataset(n_samples=500, noise_std=0.05)\n",
    "    \n",
    "    # Plot example\n",
    "    import random\n",
    "    pk_sample, theta_sample = random.choice(dataset)\n",
    "    plt.plot(k, pk_sample, label='Noisy P(k)')\n",
    "    plt.xscale('log')\n",
    "    plt.xlabel('k')\n",
    "    plt.ylabel('P(k)')\n",
    "    plt.title(f\"Example P(k) for H0={theta_sample[0]:.1f}, Ωm={theta_sample[1]:.2f}, ns={theta_sample[2]:.2f}\")\n",
    "    plt.legend()\n",
    "    plt.show()\n"
   ]
  },
  {
   "cell_type": "code",
   "execution_count": null,
   "id": "0eb856ca-e433-4089-98a0-63fa7c29dfaa",
   "metadata": {},
   "outputs": [],
   "source": []
  },
  {
   "cell_type": "code",
   "execution_count": null,
   "id": "c555280c-dd39-47a3-b1da-e9eb439114a0",
   "metadata": {},
   "outputs": [],
   "source": []
  },
  {
   "cell_type": "code",
   "execution_count": null,
   "id": "8139b545-972a-4c6f-8b05-45c7be46ba3a",
   "metadata": {},
   "outputs": [],
   "source": []
  },
  {
   "cell_type": "code",
   "execution_count": null,
   "id": "fdeb1b7b-7daf-4753-9759-f593eb95f2a7",
   "metadata": {},
   "outputs": [],
   "source": []
  }
 ],
 "metadata": {
  "kernelspec": {
   "display_name": "Python 3 (ipykernel)",
   "language": "python",
   "name": "python3"
  },
  "language_info": {
   "codemirror_mode": {
    "name": "ipython",
    "version": 3
   },
   "file_extension": ".py",
   "mimetype": "text/x-python",
   "name": "python",
   "nbconvert_exporter": "python",
   "pygments_lexer": "ipython3",
   "version": "3.11.6"
  }
 },
 "nbformat": 4,
 "nbformat_minor": 5
}
